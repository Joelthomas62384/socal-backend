{
 "cells": [
  {
   "cell_type": "code",
   "execution_count": 3,
   "id": "450597d1-530e-49de-ada3-fa9f6f27ad6c",
   "metadata": {},
   "outputs": [],
   "source": [
    "from django_for_jupyter import init_django\n",
    "init_django(\"mysite\")"
   ]
  },
  {
   "cell_type": "code",
   "execution_count": 4,
   "id": "3a91d851-cb88-4ddc-9b7b-d79c354e1eb5",
   "metadata": {},
   "outputs": [],
   "source": [
    "from django.contrib.auth import get_user_model\n"
   ]
  },
  {
   "cell_type": "code",
   "execution_count": 5,
   "id": "6e1b6ee9-813d-4c31-bdc6-cf147679207c",
   "metadata": {},
   "outputs": [],
   "source": [
    "User = get_user_model()"
   ]
  },
  {
   "cell_type": "code",
   "execution_count": 6,
   "id": "11219d20-802d-4c5f-9b1f-fa90f40e3cc3",
   "metadata": {},
   "outputs": [
    {
     "data": {
      "text/plain": [
       "<QuerySet [<User: admin>, <User: mooredaniel>, <User: zgoodman>, <User: thompsonblake>, <User: rosscharles>, <User: jacobshelton>, <User: cindybowers>, <User: abbottselena>, <User: christinecline>, <User: cindysanchez>, <User: hudsonlarry>, <User: kguerrero>, <User: fdavis>, <User: lroberts>, <User: solomonsusan>, <User: ekelley>, <User: barrettsara>, <User: joshuahowe>, <User: watkinsdawn>, <User: kellyvaldez>, '...(remaining elements truncated)...']>"
      ]
     },
     "execution_count": 6,
     "metadata": {},
     "output_type": "execute_result"
    }
   ],
   "source": [
    "User.objects.all()"
   ]
  },
  {
   "cell_type": "code",
   "execution_count": null,
   "id": "b45156e4-9ea6-4b25-b0bf-b14db93d1eef",
   "metadata": {},
   "outputs": [],
   "source": []
  }
 ],
 "metadata": {
  "kernelspec": {
   "display_name": "Python 3 (ipykernel)",
   "language": "python",
   "name": "python3"
  },
  "language_info": {
   "codemirror_mode": {
    "name": "ipython",
    "version": 3
   },
   "file_extension": ".py",
   "mimetype": "text/x-python",
   "name": "python",
   "nbconvert_exporter": "python",
   "pygments_lexer": "ipython3",
   "version": "3.11.2"
  }
 },
 "nbformat": 4,
 "nbformat_minor": 5
}
